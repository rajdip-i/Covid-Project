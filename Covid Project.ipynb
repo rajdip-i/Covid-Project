{
 "cells": [
  {
   "cell_type": "markdown",
   "id": "aa40761c",
   "metadata": {
    "id": "escsGkWFtzVj",
    "papermill": {
     "duration": 0.009759,
     "end_time": "2023-07-12T18:28:05.773947",
     "exception": false,
     "start_time": "2023-07-12T18:28:05.764188",
     "status": "completed"
    },
    "tags": []
   },
   "source": [
    "# **Load dataset**"
   ]
  },
  {
   "cell_type": "code",
   "execution_count": 1,
   "id": "93c11687",
   "metadata": {
    "execution": {
     "iopub.execute_input": "2023-07-12T18:28:07.125395Z",
     "iopub.status.busy": "2023-07-12T18:28:07.125040Z",
     "iopub.status.idle": "2023-07-12T18:28:07.473532Z",
     "shell.execute_reply": "2023-07-12T18:28:07.472278Z"
    },
    "id": "k9vHDORkwJE5",
    "outputId": "afe2ac6b-c430-4c34-b321-d6c9e7400570",
    "papermill": {
     "duration": 0.361431,
     "end_time": "2023-07-12T18:28:07.476014",
     "exception": false,
     "start_time": "2023-07-12T18:28:07.114583",
     "status": "completed"
    },
    "tags": []
   },
   "outputs": [],
   "source": [
    "\n",
    "import pandas as pd\n",
    "from sklearn.datasets import make_classification\n",
    "import numpy as np\n",
    "from matplotlib import pyplot as plt\n",
    "import seaborn as sns\n",
    "from sklearn.preprocessing import LabelEncoder\n",
    "\n",
    "df=pd.read_csv('---')  #path to dataset\n",
    "X=df.iloc[:,3:7]          \n",
    "y=df[\"Health_status\"]\n",
    "encoder = LabelEncoder()\n",
    "y = encoder.fit_transform(y)\n",
    "y.ravel()\n",
    "X.head()\n",
    "# split into train test sets\n",
    "from sklearn.model_selection import train_test_split\n",
    "from sklearn.preprocessing import MinMaxScaler\n",
    "X_train, X_test, y_train, y_test = train_test_split(X, y, test_size=0.33, random_state=1)\n",
    "# scale data\n",
    "t = MinMaxScaler()\n",
    "t.fit(X_train)\n",
    "X_train = t.transform(X_train)\n",
    "X_test = t.transform(X_test)"
   ]
  },
  {
   "cell_type": "markdown",
   "id": "484d3be8",
   "metadata": {
    "id": "0UpZfDRyvb5t",
    "papermill": {
     "duration": 0.009108,
     "end_time": "2023-07-12T18:28:07.608062",
     "exception": false,
     "start_time": "2023-07-12T18:28:07.598954",
     "status": "completed"
    },
    "tags": []
   },
   "source": [
    "# **Build Classification models**"
   ]
  },
  {
   "cell_type": "code",
   "execution_count": 2,
   "id": "f436c4d8",
   "metadata": {
    "execution": {
     "iopub.execute_input": "2023-07-12T18:28:07.628437Z",
     "iopub.status.busy": "2023-07-12T18:28:07.628054Z",
     "iopub.status.idle": "2023-07-12T18:28:07.633056Z",
     "shell.execute_reply": "2023-07-12T18:28:07.631996Z"
    },
    "id": "Q8yCRtbQu5-F",
    "papermill": {
     "duration": 0.018012,
     "end_time": "2023-07-12T18:28:07.635301",
     "exception": false,
     "start_time": "2023-07-12T18:28:07.617289",
     "status": "completed"
    },
    "tags": []
   },
   "outputs": [],
   "source": [
    "from sklearn.metrics import accuracy_score\n",
    "from sklearn.metrics import matthews_corrcoef\n",
    "from sklearn.metrics import f1_score"
   ]
  },
  {
   "cell_type": "markdown",
   "id": "b691e785",
   "metadata": {
    "id": "LswMOe9Y26Nm",
    "papermill": {
     "duration": 0.009257,
     "end_time": "2023-07-12T18:28:07.654288",
     "exception": false,
     "start_time": "2023-07-12T18:28:07.645031",
     "status": "completed"
    },
    "tags": []
   },
   "source": [
    "**K nearest neighbors**"
   ]
  },
  {
   "cell_type": "code",
   "execution_count": 3,
   "id": "6fd4dc9d",
   "metadata": {
    "execution": {
     "iopub.execute_input": "2023-07-12T18:28:07.675541Z",
     "iopub.status.busy": "2023-07-12T18:28:07.674324Z",
     "iopub.status.idle": "2023-07-12T18:28:07.705387Z",
     "shell.execute_reply": "2023-07-12T18:28:07.704503Z"
    },
    "id": "2fI6Ni6i3EAy",
    "outputId": "fcd88810-42d7-41d6-d4c4-90d808704f14",
    "papermill": {
     "duration": 0.044271,
     "end_time": "2023-07-12T18:28:07.707892",
     "exception": false,
     "start_time": "2023-07-12T18:28:07.663621",
     "status": "completed"
    },
    "tags": []
   },
   "outputs": [
    {
     "name": "stdout",
     "output_type": "stream",
     "text": [
      "Model performance for Training set\n",
      "- Accuracy: 0.9848484848484849\n",
      "- MCC: 0.9308539843557129\n",
      "- F1 score: 0.9845515625098287\n",
      "Model performance for Test set\n",
      "- Accuracy: 0.947075208913649\n",
      "- MCC: 0.7613055127277564\n",
      "- F1 score: 0.9438674728262543\n"
     ]
    }
   ],
   "source": [
    "from sklearn.neighbors import KNeighborsClassifier\n",
    "\n",
    "knn = KNeighborsClassifier(3) # Define classifier\n",
    "knn.fit(X_train, y_train) # Train model\n",
    "\n",
    "# Make predictions\n",
    "y_train_pred = knn.predict(X_train)\n",
    "y_test_pred = knn.predict(X_test)\n",
    "\n",
    "# Training set performance\n",
    "\n",
    "# Calculate Accuracy\n",
    "knn_train_accuracy = accuracy_score(y_train, y_train_pred) \n",
    "# Calculate MCC\n",
    "knn_train_mcc = matthews_corrcoef(y_train, y_train_pred) \n",
    "# Calculate F1-score\n",
    "knn_train_f1 = f1_score(y_train, y_train_pred, average='weighted') \n",
    "\n",
    "# Test set performance\n",
    "knn_test_accuracy = accuracy_score(y_test, y_test_pred) \n",
    "knn_test_mcc = matthews_corrcoef(y_test, y_test_pred) \n",
    "knn_test_f1 = f1_score(y_test, y_test_pred, average='weighted') \n",
    "\n",
    "print('Model performance for Training set')\n",
    "print('- Accuracy: %s' % knn_train_accuracy)\n",
    "print('- MCC: %s' % knn_train_mcc)\n",
    "print('- F1 score: %s' % knn_train_f1)\n",
    "\n",
    "\n",
    "print('Model performance for Test set')\n",
    "print('- Accuracy: %s' % knn_test_accuracy)\n",
    "print('- MCC: %s' % knn_test_mcc)\n",
    "print('- F1 score: %s' % knn_test_f1)"
   ]
  },
  {
   "cell_type": "markdown",
   "id": "95b432c0",
   "metadata": {
    "id": "ojasbTOn4-x-",
    "papermill": {
     "duration": 0.009376,
     "end_time": "2023-07-12T18:28:07.726804",
     "exception": false,
     "start_time": "2023-07-12T18:28:07.717428",
     "status": "completed"
    },
    "tags": []
   },
   "source": [
    "**Support vector machine (Radial basis function kernel)**"
   ]
  },
  {
   "cell_type": "code",
   "execution_count": 4,
   "id": "0bfd4f26",
   "metadata": {
    "execution": {
     "iopub.execute_input": "2023-07-12T18:28:07.747315Z",
     "iopub.status.busy": "2023-07-12T18:28:07.746948Z",
     "iopub.status.idle": "2023-07-12T18:28:07.767621Z",
     "shell.execute_reply": "2023-07-12T18:28:07.766509Z"
    },
    "id": "ot6hHeU04-2j",
    "outputId": "b95d2e3a-5cd2-47c7-cdc7-87bbd8b9da52",
    "papermill": {
     "duration": 0.033524,
     "end_time": "2023-07-12T18:28:07.769720",
     "exception": false,
     "start_time": "2023-07-12T18:28:07.736196",
     "status": "completed"
    },
    "tags": []
   },
   "outputs": [
    {
     "name": "stdout",
     "output_type": "stream",
     "text": [
      "Model performance for Training set\n",
      "- Accuracy: 0.8856749311294766\n",
      "- MCC: 0.2942384613166517\n",
      "- F1 score: 0.8420470917890267\n",
      "Model performance for Test set\n",
      "- Accuracy: 0.8774373259052924\n",
      "- MCC: 0.27038964251150893\n",
      "- F1 score: 0.8294501459320993\n"
     ]
    }
   ],
   "source": [
    "from sklearn.svm import SVC\n",
    "\n",
    "svm_rbf = SVC(gamma=2, C=1)\n",
    "svm_rbf.fit(X_train, y_train)\n",
    "\n",
    "# Make predictions\n",
    "y_train_pred = svm_rbf.predict(X_train)\n",
    "y_test_pred = svm_rbf.predict(X_test)\n",
    "\n",
    "# Training set performance\n",
    "\n",
    "# Calculate Accuracy\n",
    "svm_rbf_train_accuracy = accuracy_score(y_train, y_train_pred) \n",
    "# Calculate MCC\n",
    "svm_rbf_train_mcc = matthews_corrcoef(y_train, y_train_pred) \n",
    "# Calculate F1-score\n",
    "svm_rbf_train_f1 = f1_score(y_train, y_train_pred, average='weighted') \n",
    "\n",
    "# Test set performance\n",
    "svm_rbf_test_accuracy = accuracy_score(y_test, y_test_pred) \n",
    "svm_rbf_test_mcc = matthews_corrcoef(y_test, y_test_pred) \n",
    "svm_rbf_test_f1 = f1_score(y_test, y_test_pred, average='weighted') \n",
    "\n",
    "print('Model performance for Training set')\n",
    "print('- Accuracy: %s' % svm_rbf_train_accuracy)\n",
    "print('- MCC: %s' % svm_rbf_train_mcc)\n",
    "print('- F1 score: %s' % svm_rbf_train_f1)\n",
    "\n",
    "print('Model performance for Test set')\n",
    "print('- Accuracy: %s' % svm_rbf_test_accuracy)\n",
    "print('- MCC: %s' % svm_rbf_test_mcc)\n",
    "print('- F1 score: %s' % svm_rbf_test_f1)"
   ]
  },
  {
   "cell_type": "markdown",
   "id": "853275f8",
   "metadata": {
    "id": "Tus32H-i42PT",
    "papermill": {
     "duration": 0.009532,
     "end_time": "2023-07-12T18:28:07.788678",
     "exception": false,
     "start_time": "2023-07-12T18:28:07.779146",
     "status": "completed"
    },
    "tags": []
   },
   "source": [
    "**Decision tree**"
   ]
  },
  {
   "cell_type": "code",
   "execution_count": 5,
   "id": "4bcb7fc3",
   "metadata": {
    "execution": {
     "iopub.execute_input": "2023-07-12T18:28:07.808983Z",
     "iopub.status.busy": "2023-07-12T18:28:07.808579Z",
     "iopub.status.idle": "2023-07-12T18:28:07.872527Z",
     "shell.execute_reply": "2023-07-12T18:28:07.871211Z"
    },
    "id": "d3YJF0rz44Ar",
    "outputId": "198405ac-af31-4eb8-d773-5e00b350ad00",
    "papermill": {
     "duration": 0.076831,
     "end_time": "2023-07-12T18:28:07.874784",
     "exception": false,
     "start_time": "2023-07-12T18:28:07.797953",
     "status": "completed"
    },
    "tags": []
   },
   "outputs": [
    {
     "name": "stdout",
     "output_type": "stream",
     "text": [
      "Model performance for Training set\n",
      "- Accuracy: 1.0\n",
      "- MCC: 1.0\n",
      "- F1 score: 1.0\n",
      "Model performance for Test set\n",
      "- Accuracy: 0.9888579387186629\n",
      "- MCC: 0.9526246368967016\n",
      "- F1 score: 0.9879294336118849\n"
     ]
    }
   ],
   "source": [
    "from sklearn.tree import DecisionTreeClassifier\n",
    "\n",
    " # Define classifier\n",
    "dt = DecisionTreeClassifier(max_depth=5)\n",
    "dt.fit(X_train, y_train) \n",
    "\n",
    "# Make predictions\n",
    "y_train_pred = dt.predict(X_train)\n",
    "y_test_pred = dt.predict(X_test)\n",
    "\n",
    "# Training set performance\n",
    "\n",
    "# Calculate Accuracy\n",
    "dt_train_accuracy = accuracy_score(y_train, y_train_pred) \n",
    "# Calculate MCC\n",
    "dt_train_mcc = matthews_corrcoef(y_train, y_train_pred) \n",
    "# Calculate F1-score\n",
    "dt_train_f1 = f1_score(y_train, y_train_pred, average='weighted') \n",
    "\n",
    "# Test set performance\n",
    "dt_test_accuracy = accuracy_score(y_test, y_test_pred)\n",
    "dt_test_mcc = matthews_corrcoef(y_test, y_test_pred) \n",
    "dt_test_f1 = f1_score(y_test, y_test_pred, average='weighted') \n",
    "\n",
    "print('Model performance for Training set')\n",
    "print('- Accuracy: %s' % dt_train_accuracy)\n",
    "print('- MCC: %s' % dt_train_mcc)\n",
    "print('- F1 score: %s' % dt_train_f1)\n",
    "\n",
    "print('Model performance for Test set')\n",
    "print('- Accuracy: %s' % dt_test_accuracy)\n",
    "print('- MCC: %s' % dt_test_mcc)\n",
    "print('- F1 score: %s' % dt_test_f1)"
   ]
  },
  {
   "cell_type": "markdown",
   "id": "98007395",
   "metadata": {
    "id": "XXd2iTxuviDb",
    "papermill": {
     "duration": 0.00933,
     "end_time": "2023-07-12T18:28:07.893875",
     "exception": false,
     "start_time": "2023-07-12T18:28:07.884545",
     "status": "completed"
    },
    "tags": []
   },
   "source": [
    "**Random forest**"
   ]
  },
  {
   "cell_type": "code",
   "execution_count": 6,
   "id": "d5d1eb6d",
   "metadata": {
    "execution": {
     "iopub.execute_input": "2023-07-12T18:28:07.914395Z",
     "iopub.status.busy": "2023-07-12T18:28:07.913982Z",
     "iopub.status.idle": "2023-07-12T18:28:08.073757Z",
     "shell.execute_reply": "2023-07-12T18:28:08.072305Z"
    },
    "id": "a4iahxJWvhVu",
    "outputId": "e4466663-02b7-4e55-9f55-01f568b79a17",
    "papermill": {
     "duration": 0.172646,
     "end_time": "2023-07-12T18:28:08.076049",
     "exception": false,
     "start_time": "2023-07-12T18:28:07.903403",
     "status": "completed"
    },
    "tags": []
   },
   "outputs": [
    {
     "name": "stdout",
     "output_type": "stream",
     "text": [
      "Model performance for Training set\n",
      "- Accuracy: 1.0\n",
      "- MCC: 1.0\n",
      "- F1 score: 1.0\n",
      "Model performance for Test set\n",
      "- Accuracy: 0.9888579387186629\n",
      "- MCC: 0.9521744292994492\n",
      "- F1 score: 0.9868910003253648\n"
     ]
    }
   ],
   "source": [
    "from sklearn.ensemble import RandomForestClassifier\n",
    "\n",
    "# Define classifier\n",
    "rf = RandomForestClassifier(n_estimators=10) \n",
    "rf.fit(X_train, y_train)\n",
    "\n",
    "# Make predictions\n",
    "y_train_pred = rf.predict(X_train)\n",
    "y_test_pred = rf.predict(X_test)\n",
    "\n",
    "# Training set performance\n",
    "\n",
    "# Calculate Accuracy\n",
    "rf_train_accuracy = accuracy_score(y_train, y_train_pred) \n",
    "# Calculate MCC\n",
    "rf_train_mcc = matthews_corrcoef(y_train, y_train_pred) \n",
    "# Calculate F1-score\n",
    "rf_train_f1 = f1_score(y_train, y_train_pred, average='weighted') \n",
    "\n",
    "# Test set performance\n",
    "rf_test_accuracy = accuracy_score(y_test, y_test_pred) \n",
    "rf_test_mcc = matthews_corrcoef(y_test, y_test_pred) \n",
    "rf_test_f1 = f1_score(y_test, y_test_pred, average='weighted') \n",
    "\n",
    "print('Model performance for Training set')\n",
    "print('- Accuracy: %s' % rf_train_accuracy)\n",
    "print('- MCC: %s' % rf_train_mcc)\n",
    "print('- F1 score: %s' % rf_train_f1)\n",
    "\n",
    "print('Model performance for Test set')\n",
    "print('- Accuracy: %s' % rf_test_accuracy)\n",
    "print('- MCC: %s' % rf_test_mcc)\n",
    "print('- F1 score: %s' % rf_test_f1)"
   ]
  },
  {
   "cell_type": "markdown",
   "id": "b3b8eb53",
   "metadata": {
    "id": "G_H6KkezwfH0",
    "papermill": {
     "duration": 0.009709,
     "end_time": "2023-07-12T18:28:08.095539",
     "exception": false,
     "start_time": "2023-07-12T18:28:08.085830",
     "status": "completed"
    },
    "tags": []
   },
   "source": [
    "**Neural network**"
   ]
  },
  {
   "cell_type": "code",
   "execution_count": 8,
   "id": "8ff2b2fc",
   "metadata": {
    "execution": {
     "iopub.execute_input": "2023-07-12T18:28:08.117043Z",
     "iopub.status.busy": "2023-07-12T18:28:08.116329Z",
     "iopub.status.idle": "2023-07-12T18:28:08.437763Z",
     "shell.execute_reply": "2023-07-12T18:28:08.436425Z"
    },
    "id": "06mNcVuUwrpi",
    "outputId": "f4e49b00-d3ea-4501-8669-cab30141e7f3",
    "papermill": {
     "duration": 0.334882,
     "end_time": "2023-07-12T18:28:08.440116",
     "exception": false,
     "start_time": "2023-07-12T18:28:08.105234",
     "status": "completed"
    },
    "tags": []
   },
   "outputs": [
    {
     "name": "stdout",
     "output_type": "stream",
     "text": [
      "Model performance for Training set\n",
      "- Accuracy: 0.8939393939393939\n",
      "- MCC: 0.3814596386916604\n",
      "- F1 score: 0.8584078363902627\n",
      "Model performance for Test set\n",
      "- Accuracy: 0.883008356545961\n",
      "- MCC: 0.33209512847952\n",
      "- F1 score: 0.840832661554067\n"
     ]
    },
    {
     "name": "stderr",
     "output_type": "stream",
     "text": [
      "/Users/rajdipingale/anaconda3/lib/python3.11/site-packages/sklearn/neural_network/_multilayer_perceptron.py:686: ConvergenceWarning: Stochastic Optimizer: Maximum iterations (200) reached and the optimization hasn't converged yet.\n",
      "  warnings.warn(\n"
     ]
    }
   ],
   "source": [
    "from sklearn.neural_network import MLPClassifier\n",
    "\n",
    "# Define classifier\n",
    "mlp = MLPClassifier()\n",
    "mlp.fit(X_train, y_train)\n",
    "\n",
    "# Make predictions\n",
    "y_train_pred = mlp.predict(X_train)\n",
    "y_test_pred = mlp.predict(X_test)\n",
    "\n",
    "# Training set performance\n",
    "\n",
    "# Calculate Accuracy\n",
    "mlp_train_accuracy = accuracy_score(y_train, y_train_pred) \n",
    "# Calculate MCC\n",
    "mlp_train_mcc = matthews_corrcoef(y_train, y_train_pred) \n",
    "# Calculate F1-score\n",
    "mlp_train_f1 = f1_score(y_train, y_train_pred, average='weighted') \n",
    "\n",
    "# Test set performance\n",
    "mlp_test_accuracy = accuracy_score(y_test, y_test_pred) \n",
    "mlp_test_mcc = matthews_corrcoef(y_test, y_test_pred) \n",
    "mlp_test_f1 = f1_score(y_test, y_test_pred, average='weighted') \n",
    "\n",
    "print('Model performance for Training set')\n",
    "print('- Accuracy: %s' % mlp_train_accuracy)\n",
    "print('- MCC: %s' % mlp_train_mcc)\n",
    "print('- F1 score: %s' % mlp_train_f1)\n",
    "\n",
    "print('Model performance for Test set')\n",
    "print('- Accuracy: %s' % mlp_test_accuracy)\n",
    "print('- MCC: %s' % mlp_test_mcc)\n",
    "print('- F1 score: %s' % mlp_test_f1)"
   ]
  },
  {
   "cell_type": "markdown",
   "id": "e9b57326",
   "metadata": {
    "id": "SPP95Rpyt8go",
    "papermill": {
     "duration": 0.009692,
     "end_time": "2023-07-12T18:28:08.459834",
     "exception": false,
     "start_time": "2023-07-12T18:28:08.450142",
     "status": "completed"
    },
    "tags": []
   },
   "source": [
    "# **Build Stacked model**"
   ]
  },
  {
   "cell_type": "code",
   "execution_count": 9,
   "id": "a59ab455",
   "metadata": {
    "execution": {
     "iopub.execute_input": "2023-07-12T18:28:08.481525Z",
     "iopub.status.busy": "2023-07-12T18:28:08.480844Z",
     "iopub.status.idle": "2023-07-12T18:28:10.471644Z",
     "shell.execute_reply": "2023-07-12T18:28:10.470475Z"
    },
    "id": "WO_qR3303OUp",
    "outputId": "985e12c1-9e17-4bd1-f9ca-8d705b47afd0",
    "papermill": {
     "duration": 2.004557,
     "end_time": "2023-07-12T18:28:10.474162",
     "exception": false,
     "start_time": "2023-07-12T18:28:08.469605",
     "status": "completed"
    },
    "tags": []
   },
   "outputs": [
    {
     "name": "stderr",
     "output_type": "stream",
     "text": [
      "/Users/rajdipingale/anaconda3/lib/python3.11/site-packages/sklearn/neural_network/_multilayer_perceptron.py:686: ConvergenceWarning: Stochastic Optimizer: Maximum iterations (200) reached and the optimization hasn't converged yet.\n",
      "  warnings.warn(\n",
      "/Users/rajdipingale/anaconda3/lib/python3.11/site-packages/sklearn/neural_network/_multilayer_perceptron.py:686: ConvergenceWarning: Stochastic Optimizer: Maximum iterations (200) reached and the optimization hasn't converged yet.\n",
      "  warnings.warn(\n",
      "/Users/rajdipingale/anaconda3/lib/python3.11/site-packages/sklearn/neural_network/_multilayer_perceptron.py:686: ConvergenceWarning: Stochastic Optimizer: Maximum iterations (200) reached and the optimization hasn't converged yet.\n",
      "  warnings.warn(\n",
      "/Users/rajdipingale/anaconda3/lib/python3.11/site-packages/sklearn/neural_network/_multilayer_perceptron.py:686: ConvergenceWarning: Stochastic Optimizer: Maximum iterations (200) reached and the optimization hasn't converged yet.\n",
      "  warnings.warn(\n"
     ]
    },
    {
     "name": "stdout",
     "output_type": "stream",
     "text": [
      "Model performance for Training set\n",
      "Accuracy: 1.0\n",
      "MCC: 1.0\n",
      "F1 score: 1.0\n",
      "Model performance for Test set\n",
      "Accuracy: 0.9888579387186629\n",
      "MCC: 0.9521744292994492\n",
      "F1 score: 0.9868910003253648\n"
     ]
    },
    {
     "name": "stderr",
     "output_type": "stream",
     "text": [
      "/Users/rajdipingale/anaconda3/lib/python3.11/site-packages/sklearn/neural_network/_multilayer_perceptron.py:686: ConvergenceWarning: Stochastic Optimizer: Maximum iterations (200) reached and the optimization hasn't converged yet.\n",
      "  warnings.warn(\n",
      "/Users/rajdipingale/anaconda3/lib/python3.11/site-packages/sklearn/neural_network/_multilayer_perceptron.py:686: ConvergenceWarning: Stochastic Optimizer: Maximum iterations (200) reached and the optimization hasn't converged yet.\n",
      "  warnings.warn(\n"
     ]
    }
   ],
   "source": [
    "# Define estimators\n",
    "from sklearn.ensemble import StackingClassifier\n",
    "from sklearn.linear_model import LogisticRegression\n",
    "\n",
    "estimator_list = [\n",
    "    ('knn',knn),\n",
    "    ('svm_rbf',svm_rbf),\n",
    "    ('dt',dt),\n",
    "    ('rf',rf),\n",
    "    ('mlp',mlp) ]\n",
    "\n",
    "# Build stack model\n",
    "stack_model = StackingClassifier(\n",
    "    estimators=estimator_list, final_estimator=LogisticRegression()\n",
    ")\n",
    "\n",
    "# Train stacked model\n",
    "stack_model.fit(X_train, y_train)\n",
    "\n",
    "# Make predictions\n",
    "y_train_pred = stack_model.predict(X_train)\n",
    "y_test_pred = stack_model.predict(X_test)\n",
    "\n",
    "# Training set model performance\n",
    "\n",
    "\n",
    "# Calculate Accuracy\n",
    "stack_model_train_accuracy = accuracy_score(y_train, y_train_pred) \n",
    "\n",
    "# Calculate MCC\n",
    "stack_model_train_mcc = matthews_corrcoef(y_train, y_train_pred) \n",
    "\n",
    "# Calculate F1-score\n",
    "stack_model_train_f1 = f1_score(y_train, y_train_pred, average='weighted') \n",
    "\n",
    "# Test set model performance\n",
    "stack_model_test_accuracy = accuracy_score(y_test, y_test_pred) \n",
    "stack_model_test_mcc = matthews_corrcoef(y_test, y_test_pred) \n",
    "stack_model_test_f1 = f1_score(y_test, y_test_pred, average='weighted') \n",
    "\n",
    "print('Model performance for Training set')\n",
    "print('Accuracy: %s' % stack_model_train_accuracy)\n",
    "print('MCC: %s' % stack_model_train_mcc)\n",
    "print('F1 score: %s' % stack_model_train_f1)\n",
    "\n",
    "print('Model performance for Test set')\n",
    "print('Accuracy: %s' % stack_model_test_accuracy)\n",
    "print('MCC: %s' % stack_model_test_mcc)\n",
    "print('F1 score: %s' % stack_model_test_f1)"
   ]
  },
  {
   "cell_type": "markdown",
   "id": "b113b2f8",
   "metadata": {
    "id": "5Az-v5Tmden0",
    "papermill": {
     "duration": 0.009743,
     "end_time": "2023-07-12T18:28:10.493950",
     "exception": false,
     "start_time": "2023-07-12T18:28:10.484207",
     "status": "completed"
    },
    "tags": []
   },
   "source": [
    "# **Results**"
   ]
  },
  {
   "cell_type": "code",
   "execution_count": 10,
   "id": "82f7bf9d",
   "metadata": {
    "execution": {
     "iopub.execute_input": "2023-07-12T18:28:10.516015Z",
     "iopub.status.busy": "2023-07-12T18:28:10.515329Z",
     "iopub.status.idle": "2023-07-12T18:28:10.521947Z",
     "shell.execute_reply": "2023-07-12T18:28:10.521181Z"
    },
    "id": "Pr_A9dIUdhes",
    "papermill": {
     "duration": 0.02026,
     "end_time": "2023-07-12T18:28:10.524062",
     "exception": false,
     "start_time": "2023-07-12T18:28:10.503802",
     "status": "completed"
    },
    "tags": []
   },
   "outputs": [],
   "source": [
    "acc_train_list = {'knn':knn_train_accuracy,\n",
    "'svm_rbf': svm_rbf_train_accuracy,\n",
    "'dt': dt_train_accuracy,\n",
    "'rf': rf_train_accuracy,\n",
    "'mlp': mlp_train_accuracy,\n",
    "'stack': stack_model_train_accuracy}\n",
    "\n",
    "mcc_train_list = {'knn':knn_train_mcc,\n",
    "'svm_rbf': svm_rbf_train_mcc,\n",
    "'dt': dt_train_mcc,\n",
    "'rf': rf_train_mcc,\n",
    "'mlp': mlp_train_mcc,\n",
    "'stack': stack_model_train_mcc}\n",
    "\n",
    "f1_train_list = {'knn':knn_train_f1,\n",
    "'svm_rbf': svm_rbf_train_f1,\n",
    "'dt': dt_train_f1,\n",
    "'rf': rf_train_f1,\n",
    "'mlp': mlp_train_f1,\n",
    "'stack': stack_model_train_f1}"
   ]
  },
  {
   "cell_type": "code",
   "execution_count": 11,
   "id": "fb98da97",
   "metadata": {
    "execution": {
     "iopub.execute_input": "2023-07-12T18:28:10.546132Z",
     "iopub.status.busy": "2023-07-12T18:28:10.545464Z",
     "iopub.status.idle": "2023-07-12T18:28:10.552321Z",
     "shell.execute_reply": "2023-07-12T18:28:10.551357Z"
    },
    "id": "RrUnYrWj3p-s",
    "outputId": "8e74df8b-3661-42f1-c339-3a288e28c3de",
    "papermill": {
     "duration": 0.020496,
     "end_time": "2023-07-12T18:28:10.554485",
     "exception": false,
     "start_time": "2023-07-12T18:28:10.533989",
     "status": "completed"
    },
    "tags": []
   },
   "outputs": [
    {
     "data": {
      "text/plain": [
       "{'knn': 0.9308539843557129,\n",
       " 'svm_rbf': 0.2942384613166517,\n",
       " 'dt': 1.0,\n",
       " 'rf': 1.0,\n",
       " 'mlp': 0.3814596386916604,\n",
       " 'stack': 1.0}"
      ]
     },
     "execution_count": 11,
     "metadata": {},
     "output_type": "execute_result"
    }
   ],
   "source": [
    "mcc_train_list"
   ]
  },
  {
   "cell_type": "code",
   "execution_count": 12,
   "id": "ab237a4c",
   "metadata": {
    "execution": {
     "iopub.execute_input": "2023-07-12T18:28:10.576466Z",
     "iopub.status.busy": "2023-07-12T18:28:10.576045Z",
     "iopub.status.idle": "2023-07-12T18:28:10.603953Z",
     "shell.execute_reply": "2023-07-12T18:28:10.602797Z"
    },
    "id": "xPIcIXOte2fC",
    "outputId": "77111576-ece3-4e8f-ed8f-947860b2868b",
    "papermill": {
     "duration": 0.041675,
     "end_time": "2023-07-12T18:28:10.606204",
     "exception": false,
     "start_time": "2023-07-12T18:28:10.564529",
     "status": "completed"
    },
    "tags": []
   },
   "outputs": [
    {
     "data": {
      "text/html": [
       "<div>\n",
       "<style scoped>\n",
       "    .dataframe tbody tr th:only-of-type {\n",
       "        vertical-align: middle;\n",
       "    }\n",
       "\n",
       "    .dataframe tbody tr th {\n",
       "        vertical-align: top;\n",
       "    }\n",
       "\n",
       "    .dataframe thead th {\n",
       "        text-align: right;\n",
       "    }\n",
       "</style>\n",
       "<table border=\"1\" class=\"dataframe\">\n",
       "  <thead>\n",
       "    <tr style=\"text-align: right;\">\n",
       "      <th></th>\n",
       "      <th>Accuracy</th>\n",
       "      <th>MCC</th>\n",
       "      <th>F1</th>\n",
       "    </tr>\n",
       "  </thead>\n",
       "  <tbody>\n",
       "    <tr>\n",
       "      <th>knn</th>\n",
       "      <td>0.984848</td>\n",
       "      <td>0.930854</td>\n",
       "      <td>0.984552</td>\n",
       "    </tr>\n",
       "    <tr>\n",
       "      <th>svm_rbf</th>\n",
       "      <td>0.885675</td>\n",
       "      <td>0.294238</td>\n",
       "      <td>0.842047</td>\n",
       "    </tr>\n",
       "    <tr>\n",
       "      <th>dt</th>\n",
       "      <td>1.000000</td>\n",
       "      <td>1.000000</td>\n",
       "      <td>1.000000</td>\n",
       "    </tr>\n",
       "    <tr>\n",
       "      <th>rf</th>\n",
       "      <td>1.000000</td>\n",
       "      <td>1.000000</td>\n",
       "      <td>1.000000</td>\n",
       "    </tr>\n",
       "    <tr>\n",
       "      <th>mlp</th>\n",
       "      <td>0.893939</td>\n",
       "      <td>0.381460</td>\n",
       "      <td>0.858408</td>\n",
       "    </tr>\n",
       "    <tr>\n",
       "      <th>stack</th>\n",
       "      <td>1.000000</td>\n",
       "      <td>1.000000</td>\n",
       "      <td>1.000000</td>\n",
       "    </tr>\n",
       "  </tbody>\n",
       "</table>\n",
       "</div>"
      ],
      "text/plain": [
       "         Accuracy       MCC        F1\n",
       "knn      0.984848  0.930854  0.984552\n",
       "svm_rbf  0.885675  0.294238  0.842047\n",
       "dt       1.000000  1.000000  1.000000\n",
       "rf       1.000000  1.000000  1.000000\n",
       "mlp      0.893939  0.381460  0.858408\n",
       "stack    1.000000  1.000000  1.000000"
      ]
     },
     "execution_count": 12,
     "metadata": {},
     "output_type": "execute_result"
    }
   ],
   "source": [
    "import pandas as pd\n",
    "\n",
    "acc_df = pd.DataFrame.from_dict(acc_train_list, orient='index', columns=['Accuracy'])\n",
    "mcc_df = pd.DataFrame.from_dict(mcc_train_list, orient='index', columns=['MCC'])\n",
    "f1_df = pd.DataFrame.from_dict(f1_train_list, orient='index', columns=['F1'])\n",
    "df = pd.concat([acc_df, mcc_df, f1_df], axis=1)\n",
    "df"
   ]
  },
  {
   "cell_type": "code",
   "execution_count": 20,
   "id": "4836c76a",
   "metadata": {
    "execution": {
     "iopub.execute_input": "2023-07-12T18:28:10.629424Z",
     "iopub.status.busy": "2023-07-12T18:28:10.628794Z",
     "iopub.status.idle": "2023-07-12T18:28:10.637507Z",
     "shell.execute_reply": "2023-07-12T18:28:10.636732Z"
    },
    "id": "IVz6u1opkzyw",
    "papermill": {
     "duration": 0.022869,
     "end_time": "2023-07-12T18:28:10.639696",
     "exception": false,
     "start_time": "2023-07-12T18:28:10.616827",
     "status": "completed"
    },
    "tags": []
   },
   "outputs": [],
   "source": [
    "df.to_csv('results.csv')"
   ]
  }
 ],
 "metadata": {
  "kernelspec": {
   "display_name": "Python 3 (ipykernel)",
   "language": "python",
   "name": "python3"
  },
  "language_info": {
   "codemirror_mode": {
    "name": "ipython",
    "version": 3
   },
   "file_extension": ".py",
   "mimetype": "text/x-python",
   "name": "python",
   "nbconvert_exporter": "python",
   "pygments_lexer": "ipython3",
   "version": "3.11.3"
  },
  "papermill": {
   "default_parameters": {},
   "duration": 16.659064,
   "end_time": "2023-07-12T18:28:11.572289",
   "environment_variables": {},
   "exception": null,
   "input_path": "__notebook__.ipynb",
   "output_path": "__notebook__.ipynb",
   "parameters": {},
   "start_time": "2023-07-12T18:27:54.913225",
   "version": "2.4.0"
  }
 },
 "nbformat": 4,
 "nbformat_minor": 5
}
